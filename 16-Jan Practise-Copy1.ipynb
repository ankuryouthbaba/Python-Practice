{
 "cells": [
  {
   "cell_type": "code",
   "execution_count": 1,
   "metadata": {},
   "outputs": [],
   "source": [
    "a = \"hello\""
   ]
  },
  {
   "cell_type": "code",
   "execution_count": 2,
   "metadata": {},
   "outputs": [
    {
     "data": {
      "text/plain": [
       "'hello'"
      ]
     },
     "execution_count": 2,
     "metadata": {},
     "output_type": "execute_result"
    }
   ],
   "source": [
    "a"
   ]
  },
  {
   "cell_type": "code",
   "execution_count": 7,
   "metadata": {},
   "outputs": [
    {
     "data": {
      "text/plain": [
       "4"
      ]
     },
     "execution_count": 7,
     "metadata": {},
     "output_type": "execute_result"
    }
   ],
   "source": [
    "a.find(\"o\")"
   ]
  },
  {
   "cell_type": "code",
   "execution_count": 8,
   "metadata": {},
   "outputs": [],
   "source": [
    "a=\"hi\""
   ]
  },
  {
   "cell_type": "code",
   "execution_count": 9,
   "metadata": {},
   "outputs": [
    {
     "data": {
      "text/plain": [
       "'hi'"
      ]
     },
     "execution_count": 9,
     "metadata": {},
     "output_type": "execute_result"
    }
   ],
   "source": [
    "a"
   ]
  },
  {
   "cell_type": "code",
   "execution_count": 10,
   "metadata": {},
   "outputs": [
    {
     "data": {
      "text/plain": [
       "str"
      ]
     },
     "execution_count": 10,
     "metadata": {},
     "output_type": "execute_result"
    }
   ],
   "source": [
    "type(a)"
   ]
  },
  {
   "cell_type": "code",
   "execution_count": 11,
   "metadata": {},
   "outputs": [],
   "source": [
    "a=5"
   ]
  },
  {
   "cell_type": "code",
   "execution_count": 12,
   "metadata": {},
   "outputs": [
    {
     "data": {
      "text/plain": [
       "5"
      ]
     },
     "execution_count": 12,
     "metadata": {},
     "output_type": "execute_result"
    }
   ],
   "source": [
    "a"
   ]
  },
  {
   "cell_type": "code",
   "execution_count": 13,
   "metadata": {},
   "outputs": [
    {
     "name": "stdout",
     "output_type": "stream",
     "text": [
      "1\n",
      "3\n",
      "5\n",
      "7\n",
      "9\n",
      "11\n",
      "13\n",
      "15\n",
      "17\n",
      "19\n",
      "21\n",
      "23\n",
      "25\n",
      "27\n",
      "29\n",
      "31\n",
      "33\n",
      "35\n",
      "37\n",
      "39\n",
      "41\n",
      "43\n",
      "45\n",
      "47\n",
      "49\n"
     ]
    }
   ],
   "source": [
    "for i in range (1,51,2):\n",
    "    print(i)"
   ]
  },
  {
   "cell_type": "code",
   "execution_count": 47,
   "metadata": {},
   "outputs": [
    {
     "ename": "IndentationError",
     "evalue": "expected an indented block (<ipython-input-47-ef74173bf87b>, line 6)",
     "output_type": "error",
     "traceback": [
      "\u001b[1;36m  File \u001b[1;32m\"<ipython-input-47-ef74173bf87b>\"\u001b[1;36m, line \u001b[1;32m6\u001b[0m\n\u001b[1;33m    print( \"12 x {num} = {t} \". format(num,t))\u001b[0m\n\u001b[1;37m    ^\u001b[0m\n\u001b[1;31mIndentationError\u001b[0m\u001b[1;31m:\u001b[0m expected an indented block\n"
     ]
    }
   ],
   "source": [
    "for t in range(12,121,12):\n",
    "    print(t)\n",
    "    \n",
    "    for num in range(1,10):\n",
    "   # print(num)\n",
    "    print( \"12 x {num} = {t} \". format(num,t))"
   ]
  },
  {
   "cell_type": "code",
   "execution_count": 71,
   "metadata": {},
   "outputs": [
    {
     "name": "stdout",
     "output_type": "stream",
     "text": [
      "12 x 1 = 12 \n",
      "12 x 1 = 24 \n",
      "12 x 1 = 36 \n",
      "12 x 1 = 48 \n",
      "12 x 1 = 60 \n",
      "12 x 1 = 72 \n",
      "12 x 1 = 84 \n",
      "12 x 1 = 96 \n",
      "12 x 1 = 108 \n",
      "12 x 1 = 120 \n"
     ]
    }
   ],
   "source": [
    "for t in range(12,121,12):\n",
    "    \n",
    "    #print (t)\n",
    "    \n",
    "    for num in range(1,11):\n",
    "        \n",
    "        #print (num)\n",
    "        print( \"12 x {} = {} \". format(num,t))\n",
    "        break\n",
    "        "
   ]
  },
  {
   "cell_type": "code",
   "execution_count": 72,
   "metadata": {},
   "outputs": [
    {
     "ename": "SyntaxError",
     "evalue": "invalid syntax (<ipython-input-72-355a1eb0bcc1>, line 1)",
     "output_type": "error",
     "traceback": [
      "\u001b[1;36m  File \u001b[1;32m\"<ipython-input-72-355a1eb0bcc1>\"\u001b[1;36m, line \u001b[1;32m1\u001b[0m\n\u001b[1;33m    * * * *\u001b[0m\n\u001b[1;37m      ^\u001b[0m\n\u001b[1;31mSyntaxError\u001b[0m\u001b[1;31m:\u001b[0m invalid syntax\n"
     ]
    }
   ],
   "source": [
    "* * * *\n",
    "* * * *\n",
    "* * * *\n",
    "* * * *"
   ]
  },
  {
   "cell_type": "code",
   "execution_count": 69,
   "metadata": {},
   "outputs": [
    {
     "name": "stdout",
     "output_type": "stream",
     "text": [
      "0 1 2 3 4 5 6 7 8 9 10 11 \n",
      "0 1 2 3 4 5 6 7 8 9 10 11 \n",
      "0 1 2 3 4 5 6 7 8 9 10 11 \n",
      "0 1 2 3 4 5 6 7 8 9 10 11 \n",
      "0 1 2 3 4 5 6 7 8 9 10 11 \n",
      "0 1 2 3 4 5 6 7 8 9 10 11 \n"
     ]
    }
   ],
   "source": [
    "a = 12\n",
    "b = 10\n",
    "for row in range(1,a,2):\n",
    "    for col in range(0,a):\n",
    "        print(col,end=\" \")\n",
    "    print()"
   ]
  },
  {
   "cell_type": "code",
   "execution_count": 43,
   "metadata": {},
   "outputs": [
    {
     "name": "stdout",
     "output_type": "stream",
     "text": [
      "1 \n",
      "1 2 3 \n",
      "1 2 3 4 5 \n",
      "1 2 3 4 5 6 7 \n",
      "1 2 3 4 5 6 7 8 9 \n"
     ]
    }
   ],
   "source": [
    "n = 10\n",
    "for row in range(1,n+1,2):\n",
    "    for col in range(1,row+1):\n",
    "        print(col,end=\" \")\n",
    "    print()"
   ]
  },
  {
   "cell_type": "code",
   "execution_count": 121,
   "metadata": {},
   "outputs": [
    {
     "name": "stdout",
     "output_type": "stream",
     "text": [
      "* * * * * \n",
      "* * * * * * * \n",
      "* * * * * * * * * \n",
      "* * * * * * * * * * * \n",
      "* * * * * * * * * * * * * \n"
     ]
    }
   ],
   "source": [
    "r= 5\n",
    "c= 5\n",
    "for row in range(1,r+1):\n",
    "    for col in range(1,c+1):\n",
    "        print(\"*\",end=\" \")\n",
    "    c+=2\n",
    "    print()"
   ]
  },
  {
   "cell_type": "code",
   "execution_count": 126,
   "metadata": {},
   "outputs": [
    {
     "name": "stdout",
     "output_type": "stream",
     "text": [
      "* * * * * * * * * \n",
      "* * * * * * * * \n",
      "* * * * * * * \n",
      "* * * * * * \n",
      "* * * * * \n",
      "* * * * \n",
      "* * * \n",
      "* * \n",
      "* \n"
     ]
    }
   ],
   "source": [
    "n = 10\n",
    "for col in range(1,n):\n",
    "    for row in range(0,n-col):\n",
    "        print(\"*\",end=\" \")\n",
    "    print()\n",
    "        "
   ]
  },
  {
   "cell_type": "code",
   "execution_count": 41,
   "metadata": {},
   "outputs": [
    {
     "name": "stdout",
     "output_type": "stream",
     "text": [
      "0 1 2 3 4 5 6 7 8 9 \n",
      "0 1 2 3 4 5 6 7 8 \n",
      "0 1 2 3 4 5 6 7 \n",
      "0 1 2 3 4 5 6 \n",
      "0 1 2 3 4 5 \n",
      "0 1 2 3 4 \n",
      "0 1 2 3 \n",
      "0 1 2 \n",
      "0 1 \n",
      "0 \n"
     ]
    }
   ],
   "source": [
    "n = 10\n",
    "for col in range(0,n):\n",
    "    for row in range(0,n-col):\n",
    "        print(row,end=\" \")\n",
    "    print()"
   ]
  },
  {
   "cell_type": "code",
   "execution_count": 39,
   "metadata": {},
   "outputs": [
    {
     "name": "stdout",
     "output_type": "stream",
     "text": [
      "          0 1 2 3 4 5 6 7 8 9 \n",
      "         0 1 2 3 4 5 6 7 8 \n",
      "        0 1 2 3 4 5 6 7 \n",
      "       0 1 2 3 4 5 6 \n",
      "      0 1 2 3 4 5 \n",
      "     0 1 2 3 4 \n",
      "    0 1 2 3 \n",
      "   0 1 2 \n",
      "  0 1 \n",
      " 0 \n"
     ]
    }
   ],
   "source": [
    "n = 10\n",
    "for col in range(0,n):\n",
    "    for row in range(0,n-col):\n",
    "        print(end=\" \")\n",
    "    for l in range(row+1):\n",
    "        print(l,end= \" \")\n",
    "    print()"
   ]
  },
  {
   "cell_type": "code",
   "execution_count": 96,
   "metadata": {},
   "outputs": [
    {
     "name": "stdout",
     "output_type": "stream",
     "text": [
      "1 1 1 1 1 1 1 1 1 1 1 1 1 1 1 \n",
      "2 2 2 2 2 2 2 2 2 2 2 2 2 2 2 \n",
      "3 3 3 3 3 3 3 3 3 3 3 3 3 3 3 \n",
      "4 4 4 4 4 4 4 4 4 4 4 4 4 4 4 \n",
      "5 5 5 5 5 5 5 5 5 5 5 5 5 5 5 \n",
      "6 6 6 6 6 6 6 6 6 6 6 6 6 6 6 \n",
      "7 7 7 7 7 7 7 7 7 7 7 7 7 7 7 \n",
      "8 8 8 8 8 8 8 8 8 8 8 8 8 8 8 \n",
      "9 9 9 9 9 9 9 9 9 9 9 9 9 9 9 \n",
      "10 10 10 10 10 10 10 10 10 10 10 10 10 10 10 \n",
      "11 11 11 11 11 11 11 11 11 11 11 11 11 11 11 \n",
      "12 12 12 12 12 12 12 12 12 12 12 12 12 12 12 \n",
      "13 13 13 13 13 13 13 13 13 13 13 13 13 13 13 \n",
      "14 14 14 14 14 14 14 14 14 14 14 14 14 14 14 \n",
      "15 15 15 15 15 15 15 15 15 15 15 15 15 15 15 \n"
     ]
    }
   ],
   "source": [
    "a = 15\n",
    "b = 15\n",
    "for row in range(a):\n",
    "    for col in range(b):\n",
    "        print(row+1,end=\" \")\n",
    "    print()"
   ]
  },
  {
   "cell_type": "code",
   "execution_count": 101,
   "metadata": {},
   "outputs": [
    {
     "name": "stdout",
     "output_type": "stream",
     "text": [
      "1 2 3 4 5 6 7 8 9 10 11 12 13 14 15 \n",
      "1 2 3 4 5 6 7 8 9 10 11 12 13 14 15 \n",
      "1 2 3 4 5 6 7 8 9 10 11 12 13 14 15 \n",
      "1 2 3 4 5 6 7 8 9 10 11 12 13 14 15 \n",
      "1 2 3 4 5 6 7 8 9 10 11 12 13 14 15 \n",
      "1 2 3 4 5 6 7 8 9 10 11 12 13 14 15 \n",
      "1 2 3 4 5 6 7 8 9 10 11 12 13 14 15 \n",
      "1 2 3 4 5 6 7 8 9 10 11 12 13 14 15 \n",
      "1 2 3 4 5 6 7 8 9 10 11 12 13 14 15 \n",
      "1 2 3 4 5 6 7 8 9 10 11 12 13 14 15 \n",
      "1 2 3 4 5 6 7 8 9 10 11 12 13 14 15 \n",
      "1 2 3 4 5 6 7 8 9 10 11 12 13 14 15 \n",
      "1 2 3 4 5 6 7 8 9 10 11 12 13 14 15 \n",
      "1 2 3 4 5 6 7 8 9 10 11 12 13 14 15 \n",
      "1 2 3 4 5 6 7 8 9 10 11 12 13 14 15 \n"
     ]
    }
   ],
   "source": [
    "a = 15\n",
    "b = 15\n",
    "for row in range(a):\n",
    "    for col in range(b):\n",
    "        print(col+1,end=\" \")\n",
    "    print()"
   ]
  },
  {
   "cell_type": "code",
   "execution_count": 103,
   "metadata": {},
   "outputs": [
    {
     "name": "stdout",
     "output_type": "stream",
     "text": [
      "1 2 3 4 \n",
      "1 2 3 4 \n",
      "1 2 3 4 \n",
      "1 2 3 4 \n",
      "1 2 3 4 \n",
      "1 2 3 4 \n",
      "1 2 3 4 \n"
     ]
    }
   ],
   "source": [
    "r = 7\n",
    "c = 4\n",
    "for row in range(r):\n",
    "    for col in range(c):\n",
    "        print(col+1,end=\" \")\n",
    "    print()"
   ]
  },
  {
   "cell_type": "code",
   "execution_count": 29,
   "metadata": {},
   "outputs": [
    {
     "name": "stdout",
     "output_type": "stream",
     "text": [
      " *** \n",
      "*   *\n",
      "*   *\n",
      "*****\n",
      "*   *\n",
      "*   *\n",
      "*   *\n"
     ]
    }
   ],
   "source": [
    "r = 7\n",
    "c = 5\n",
    "for row in range(r):\n",
    "    for col in range(c):\n",
    "        if ((col ==0 or col==4) and row!=0) or (row==0 or row==3) and (col>0 and col<4):\n",
    "            print(\"*\",end=\"\")\n",
    "        else:\n",
    "            print(end=\" \")\n",
    "    print()"
   ]
  },
  {
   "cell_type": "code",
   "execution_count": 113,
   "metadata": {},
   "outputs": [
    {
     "name": "stdout",
     "output_type": "stream",
     "text": [
      "000000000000000\n",
      "1      1      1\n",
      "2      2      2\n",
      "3      3      3\n",
      "444444444444444\n",
      "5      5      5\n",
      "6      6      6\n",
      "7      7      7\n",
      "888888888888888\n"
     ]
    }
   ],
   "source": [
    "for row in range(9):\n",
    "    for col in range(15):\n",
    "        if (col ==0 or col==7 or col==14) or (row==0 or row==4 or row==8):\n",
    "            print(row,end=\"\")\n",
    "        else:\n",
    "            print(end=\" \")\n",
    "    print()"
   ]
  },
  {
   "cell_type": "code",
   "execution_count": 94,
   "metadata": {},
   "outputs": [
    {
     "name": "stdout",
     "output_type": "stream",
     "text": [
      "012345678910\n",
      "0    5    10\n",
      "0    5    10\n",
      "0    5    10\n",
      "012345678910\n",
      "0    5    10\n",
      "0    5    10\n",
      "0    5    10\n",
      "012345678910\n"
     ]
    }
   ],
   "source": [
    "for row in range(9):\n",
    "    for col in range(11):\n",
    "        if (col ==0 or col==5 or col==10) or ((row==0 or row==4 or row==8)):\n",
    "            print(col,end=\"\")\n",
    "        else:\n",
    "            print(end=\" \")\n",
    "    print()"
   ]
  },
  {
   "cell_type": "code",
   "execution_count": 133,
   "metadata": {},
   "outputs": [
    {
     "name": "stdout",
     "output_type": "stream",
     "text": [
      " 123456789 \n",
      "0         10\n",
      "0         10\n",
      "0         10\n",
      " 123456789 \n",
      "0         10\n",
      "0         10\n",
      "0         10\n",
      " 123456789 \n"
     ]
    }
   ],
   "source": [
    "for row in range(9):\n",
    "    for col in range(11):\n",
    "        if ((col ==0 or col==10) and row!=0 and row!=4 and row!=8) or ((row==0 or row==4 or row==8) and (0<col<10)):\n",
    "            print(col,end=\"\")  \n",
    "        else:\n",
    "            print(end=\" \")\n",
    "    print()"
   ]
  },
  {
   "cell_type": "code",
   "execution_count": 129,
   "metadata": {},
   "outputs": [
    {
     "name": "stdout",
     "output_type": "stream",
     "text": [
      "0123456789 \n",
      "0         10\n",
      "0         10\n",
      "0         10\n",
      "0123456789 \n",
      "0         10\n",
      "0         10\n",
      "0         10\n",
      "0123456789 \n"
     ]
    }
   ],
   "source": [
    "for row in range(9):\n",
    "    for col in range(11):\n",
    "        if (col ==0 or col==10 and row!=0 and row!=4 and row!=8) or ((row==0 or row==4 or row==8) and (0<col<10)):\n",
    "            print(col,end=\"\")  \n",
    "        else:\n",
    "            print(end=\" \")\n",
    "    print()"
   ]
  },
  {
   "cell_type": "code",
   "execution_count": 147,
   "metadata": {},
   "outputs": [
    {
     "name": "stdout",
     "output_type": "stream",
     "text": [
      "0123456789 \n",
      "0         10\n",
      "0          \n",
      "0          \n",
      "0          \n",
      "0          \n",
      "0          \n",
      "0         10\n",
      "0123456789 \n"
     ]
    }
   ],
   "source": [
    "for row in range(9):\n",
    "    for col in range(11):\n",
    "        if (col ==0 or col==10 and row!=0 and row!=2 and row!=3 and row!=4 and row!=5 and row!=6 and row!=8) or (row==0 or row==8) and (0<col<10):\n",
    "            print(col,end=\"\")  \n",
    "        else:\n",
    "            print(end=\" \")\n",
    "    print()"
   ]
  },
  {
   "cell_type": "code",
   "execution_count": 148,
   "metadata": {},
   "outputs": [
    {
     "name": "stdout",
     "output_type": "stream",
     "text": [
      "012345678910\n",
      "0         10\n",
      "0          \n",
      "0          \n",
      "0          \n",
      "0          \n",
      "0          \n",
      "0         10\n",
      "012345678910\n"
     ]
    }
   ],
   "source": [
    "for row in range(9):\n",
    "    for col in range(11):\n",
    "        if (col ==0 or col==10 and row!=0 and row!=2 and row!=3 and row!=4 and row!=5 and row!=6 and row!=8) or (row==0 or row==8):\n",
    "            print(col,end=\"\")  \n",
    "        else:\n",
    "            print(end=\" \")\n",
    "    print()"
   ]
  },
  {
   "cell_type": "code",
   "execution_count": 150,
   "metadata": {},
   "outputs": [
    {
     "name": "stdout",
     "output_type": "stream",
     "text": [
      "0123456789 \n",
      "0         10\n",
      "0         10\n",
      "0         10\n",
      "0         10\n",
      "0         10\n",
      "0         10\n",
      "0         10\n",
      "0123456789 \n"
     ]
    }
   ],
   "source": [
    "for row in range(9):\n",
    "    for col in range(11):\n",
    "        if (col ==0 or col==10 and row!=0 and row!=8) or (row==0 or row==8) and (0<col<10):\n",
    "            print(col,end=\"\")  \n",
    "        else:\n",
    "            print(end=\" \")\n",
    "    print()"
   ]
  },
  {
   "cell_type": "code",
   "execution_count": 152,
   "metadata": {},
   "outputs": [
    {
     "name": "stdout",
     "output_type": "stream",
     "text": [
      " 123456789 \n",
      "0          \n",
      "0          \n",
      "0          \n",
      " 123456789 \n",
      "0          \n",
      "0          \n",
      "0          \n",
      " 123456789 \n"
     ]
    }
   ],
   "source": [
    "for row in range(9):\n",
    "    for col in range(11):\n",
    "        if (col ==0 and row!=0 and row!=4 and row!=8) or ((row==0 or row==4 or row==8) and (0<col<10)):\n",
    "            print(col,end=\"\")  \n",
    "        else:\n",
    "            print(end=\" \")\n",
    "    print()"
   ]
  },
  {
   "cell_type": "code",
   "execution_count": 154,
   "metadata": {},
   "outputs": [
    {
     "name": "stdout",
     "output_type": "stream",
     "text": [
      "Enter no.:7\n",
      "\n",
      "7 x 1 = 7\n",
      "7 x 2 = 14\n",
      "7 x 3 = 21\n",
      "7 x 4 = 28\n",
      "7 x 5 = 35\n",
      "7 x 6 = 42\n",
      "7 x 7 = 49\n",
      "7 x 8 = 56\n",
      "7 x 9 = 63\n",
      "7 x 10 = 70\n"
     ]
    }
   ],
   "source": [
    "num=int(input(\"Enter no.:\"))\n",
    "print()\n",
    "for i in range(1,11):\n",
    "    print(num,\"x\",i, \"=\", num*i)"
   ]
  },
  {
   "cell_type": "code",
   "execution_count": 1,
   "metadata": {},
   "outputs": [
    {
     "data": {
      "text/plain": [
       "'C:\\\\Users\\\\Ankur MVM\\\\1Test\\\\Week3'"
      ]
     },
     "execution_count": 1,
     "metadata": {},
     "output_type": "execute_result"
    }
   ],
   "source": [
    "pwd"
   ]
  },
  {
   "cell_type": "code",
   "execution_count": null,
   "metadata": {},
   "outputs": [],
   "source": []
  }
 ],
 "metadata": {
  "kernelspec": {
   "display_name": "Python 3",
   "language": "python",
   "name": "python3"
  },
  "language_info": {
   "codemirror_mode": {
    "name": "ipython",
    "version": 3
   },
   "file_extension": ".py",
   "mimetype": "text/x-python",
   "name": "python",
   "nbconvert_exporter": "python",
   "pygments_lexer": "ipython3",
   "version": "3.8.6"
  }
 },
 "nbformat": 4,
 "nbformat_minor": 4
}
